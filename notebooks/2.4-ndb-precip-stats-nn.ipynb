{
 "cells": [
  {
   "cell_type": "code",
   "execution_count": 1,
   "metadata": {
    "collapsed": true
   },
   "outputs": [],
   "source": [
    "%matplotlib inline\n",
    "\n",
    "import seaborn as sns\n",
    "import matplotlib.pyplot as plt\n",
    "\n",
    "\n",
    "\n",
    "width = 5.5\n",
    "dpi = 100\n",
    "\n",
    "sns.set_context(\"paper\")\n",
    "sns.set_style(\"white\", {\n",
    "    'figure.figsize' : (5.51, 5.51/1.61),\n",
    "    'figure.dpi': 100,\n",
    "    'image.cmap': 'viridis',\n",
    "    'xtick.major.size': 3.5,\n",
    "    'xtick.major.size': 3.5,\n",
    "    'xtick.minor.size' : 1.75,\n",
    "    'xtick.minor.visible' : True,\n",
    "    'ytick.major.size': 3.5,\n",
    "})\n",
    "\n",
    "plt.rc(\"figure\", dpi=100)"
   ]
  },
  {
   "cell_type": "markdown",
   "metadata": {},
   "source": [
    "One of our reviewers asked us to report the percent of time that precipitation is negative versus positive."
   ]
  },
  {
   "cell_type": "code",
   "execution_count": 44,
   "metadata": {},
   "outputs": [],
   "source": [
    "path = \"../data/output/model.VaryT-20/3/5/columns.nc\"\n",
    "path_2d = \"../data/raw/2/NG_5120x2560x34_4km_10s_QOBS_EQX/coarse/2d/all.nc\"\n",
    "\n",
    "nn = xr.open_dataset(path).isel(x=slice(0, 64))\n",
    "d2d = xr.open_dataset(path_2d)\n",
    "\n",
    "\n",
    "# merge all the 2D fields together\n",
    "ds = xr.merge([nn.drop(['sl', 'qt', 'z']), d2d], join='inner').dropna('time')"
   ]
  },
  {
   "cell_type": "markdown",
   "metadata": {},
   "source": [
    "# Positivity of Precipitation budget"
   ]
  },
  {
   "cell_type": "code",
   "execution_count": 45,
   "metadata": {},
   "outputs": [],
   "source": [
    "evap = ds.LHF /2.51e6 / 1000\n",
    "evap.attrs['units'] = 'm/s'"
   ]
  },
  {
   "cell_type": "code",
   "execution_count": null,
   "metadata": {},
   "outputs": [],
   "source": [
    "prec = (evap - ds.QNN)*86400 * 1000\n",
    "# drop the initial time point\n",
    "\n",
    "np.isnan(prec).any()"
   ]
  },
  {
   "cell_type": "code",
   "execution_count": null,
   "metadata": {},
   "outputs": [],
   "source": [
    "npos = int((prec >= 0).sum())\n",
    "nneg = int((prec < 0).sum())\n",
    "ntot = npos + nneg\n",
    "\n",
    "print(\"Fraction of time negative: \", nneg / ntot)"
   ]
  },
  {
   "cell_type": "markdown",
   "metadata": {},
   "source": [
    "However, the fraction of the time which precipitation is negative is not the most informative. It is also important to know the magnitude. In other words, what is the average negative rainfall vs average positive rainfall."
   ]
  },
  {
   "cell_type": "code",
   "execution_count": null,
   "metadata": {},
   "outputs": [],
   "source": [
    "mu_pos = prec.values[prec >= 0].mean()\n",
    "mu_neg = prec.values[prec < 0].mean()\n",
    "\n",
    "print(\"Mu [P < 0], Mean P >= 0\")\n",
    "print(mu_neg, mu_pos)"
   ]
  },
  {
   "cell_type": "code",
   "execution_count": null,
   "metadata": {},
   "outputs": [],
   "source": [
    "fraction_neg = float(prec.values[prec< 0 ].sum()/prec.sum())\n",
    "print(\"Fraction of total rainfall which is negative:\", fraction_neg)"
   ]
  },
  {
   "cell_type": "code",
   "execution_count": null,
   "metadata": {},
   "outputs": [],
   "source": [
    "fig, ax = plt.subplots(figsize=(3.2,3.2/1.61), constrained_layout=True)\n",
    "\n",
    "ax.hist(prec.values.ravel(), bins=200);\n",
    "ax.set_xlim([-10, 90])\n",
    "ax.set_xlabel('mm/day')\n",
    "ax.set_ylabel('Count')\n",
    "ax.axvline(0.0, color='k')\n",
    "ax.text(10, 60000, \" %.0f%% of samples with P < 0\"%(100*nneg/ntot))\n",
    "ax.text(10, 50000, \"%.0f%% of rainfall from P < 0\"%(100 * fraction_neg))\n",
    "ax.set_title(\"Precipitation Distribution for NN\");\n",
    "\n",
    "\n",
    "for sp in ['right', 'top']:\n",
    "    ax.spines[sp].set_visible(False)\n",
    "    \n",
    "plt.savefig(\"../reports/paper/si1.pdf\")"
   ]
  },
  {
   "cell_type": "markdown",
   "metadata": {},
   "source": [
    "# Energy conservation\n",
    "\n",
    "In this context, energy conservation means $\\langle c_p (Q_1 - Q_r) + L_v Q_2 \\rangle  = 0 $. The vertical integral of the radiation is given by \n",
    "$c_p \\langle Q_r \\rangle = \\text{Net TOA}\\downarrow - \\text{Net Rad SFC}\\downarrow$. SAM provides these variables in the 2D file, but I am not sure about the sign convection. Net SW at TOA should be positive, and LW negative if the flux is incoming."
   ]
  },
  {
   "cell_type": "code",
   "execution_count": null,
   "metadata": {},
   "outputs": [],
   "source": [
    "float(ds.SWNT.mean()), float(ds.LWNT.mean())"
   ]
  },
  {
   "cell_type": "code",
   "execution_count": null,
   "metadata": {},
   "outputs": [],
   "source": [
    "float(ds.SWNS.mean()), float(ds.LWNS.mean())"
   ]
  },
  {
   "cell_type": "markdown",
   "metadata": {},
   "source": [
    "It appears that the sign convection is different between LW and SW. "
   ]
  },
  {
   "cell_type": "code",
   "execution_count": 26,
   "metadata": {},
   "outputs": [],
   "source": [
    "net_TOA = ds.SWNT - ds.LWNT \n",
    "net_SFC = ds.SWNS - ds.LWNS - ds.LHF - ds.SHF\n",
    "net_rad = ds.SWNT - ds.LWNT - (ds.SWNS - ds.LWNS)"
   ]
  },
  {
   "cell_type": "markdown",
   "metadata": {},
   "source": [
    "This shows that around 40 W/m2 are staying in the atmosphere over this region. This energy budget should be closed by heat transport due to the circulation.\n",
    "\n",
    "So, how well does the NN conserve this energy? We can quantify this by the \"imbalance\" statistic:\n",
    "\n",
    "$$ I = c_p \\langle Q_1 \\rangle + L_v \\rho_w \\langle Q_2 \\rangle  -  (TOA_{r\\downarrow} - SFC_{r\\downarrow} + SHF + LHF)$$"
   ]
  },
  {
   "cell_type": "code",
   "execution_count": 27,
   "metadata": {},
   "outputs": [],
   "source": [
    "rho_w = 1000\n",
    "Lv = 2.51e6\n",
    "\n",
    "imbalance = ds.SNN + ds.QNN * rho_w * Lv  - (net_rad + ds.SHF + ds. LHF)"
   ]
  },
  {
   "cell_type": "code",
   "execution_count": 28,
   "metadata": {},
   "outputs": [
    {
     "name": "stdout",
     "output_type": "stream",
     "text": [
      "Mean imbalance -5.328006 W/m2\n",
      "Std of imbalance 92.498276 W/m2\n"
     ]
    }
   ],
   "source": [
    "print(\"Mean imbalance %f W/m2\"%imbalance.mean())\n",
    "print(\"Std of imbalance %f W/m2\"%imbalance.std())"
   ]
  },
  {
   "cell_type": "markdown",
   "metadata": {},
   "source": [
    "The mean imbalance is pretty low overall. On the other hand, the standard deviation of the imbalance is pretty high probably because the neural network includes the effect of horizontal mixing and because the approximations used to compute the large-scale forcing. What does the time series look like?"
   ]
  },
  {
   "cell_type": "code",
   "execution_count": 47,
   "metadata": {},
   "outputs": [
    {
     "data": {
      "text/plain": [
       "[<matplotlib.lines.Line2D at 0x1151263c8>]"
      ]
     },
     "execution_count": 47,
     "metadata": {},
     "output_type": "execute_result"
    },
    {
     "data": {
      "image/png": "[encoded data removed]",
      "text/plain": [
       "<Figure size 600x400 with 1 Axes>"
      ]
     },
     "metadata": {},
     "output_type": "display_data"
    }
   ],
   "source": [
    "imbalance.isel(x=0, y=8).plot()"
   ]
  },
  {
   "cell_type": "markdown",
   "metadata": {},
   "source": [
    "We can see that the time series is pretty noisy, but does show some coherent structures  around day 105 and 178, for example."
   ]
  }
 ],
 "metadata": {
  "kernelspec": {
   "display_name": "Python [conda env:uw-machine-learning]",
   "language": "python",
   "name": "conda-env-uw-machine-learning-py"
  },
  "language_info": {
   "codemirror_mode": {
    "name": "ipython",
    "version": 3
   },
   "file_extension": ".py",
   "mimetype": "text/x-python",
   "name": "python",
   "nbconvert_exporter": "python",
   "pygments_lexer": "ipython3",
   "version": "3.6.3"
  },
  "toc": {
   "nav_menu": {},
   "number_sections": true,
   "sideBar": true,
   "skip_h1_title": false,
   "title_cell": "Table of Contents",
   "title_sidebar": "Contents",
   "toc_cell": false,
   "toc_position": {},
   "toc_section_display": true,
   "toc_window_display": false
  },
  "varInspector": {
   "cols": {
    "lenName": 16,
    "lenType": 16,
    "lenVar": 40
   },
   "kernels_config": {
    "python": {
     "delete_cmd_postfix": "",
     "delete_cmd_prefix": "del ",
     "library": "var_list.py",
     "varRefreshCmd": "print(var_dic_list())"
    },
    "r": {
     "delete_cmd_postfix": ") ",
     "delete_cmd_prefix": "rm(",
     "library": "var_list.r",
     "varRefreshCmd": "cat(var_dic_list()) "
    }
   },
   "types_to_exclude": [
    "module",
    "function",
    "builtin_function_or_method",
    "instance",
    "_Feature"
   ],
   "window_display": false
  }
 },
 "nbformat": 4,
 "nbformat_minor": 2
}
